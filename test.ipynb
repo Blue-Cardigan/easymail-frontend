{
 "cells": [
  {
   "cell_type": "code",
   "execution_count": 4,
   "metadata": {},
   "outputs": [
    {
     "name": "stdout",
     "output_type": "stream",
     "text": [
      "Favicon PNGs created in public\n"
     ]
    }
   ],
   "source": [
    "import cairosvg\n",
    "from PIL import Image\n",
    "import os\n",
    "\n",
    "def create_favicon_pngs(svg_path, output_dir):\n",
    "    # Ensure the output directory exists\n",
    "    os.makedirs(output_dir, exist_ok=True)\n",
    "\n",
    "    # Convert SVG to PNG (512x512 as a base size)\n",
    "    png_path = os.path.join(output_dir, \"favicon-512x512.png\")\n",
    "    cairosvg.svg2png(url=svg_path, write_to=png_path, output_width=512, output_height=512)\n",
    "\n",
    "    # Open the base PNG\n",
    "    img = Image.open(png_path)\n",
    "\n",
    "    # Create different sizes\n",
    "    sizes = [16, 32, 48, 128, 192, 256]\n",
    "    for size in sizes:\n",
    "        resized = img.resize((size, size), Image.LANCZOS)\n",
    "        resized.save(os.path.join(output_dir, f\"favicon-{size}x{size}.png\"))\n",
    "\n",
    "    print(f\"Favicon PNGs created in {output_dir}\")\n",
    "\n",
    "# Usage\n",
    "svg_path = \"public/favico.svg\"\n",
    "output_dir = \"public\"\n",
    "\n",
    "create_favicon_pngs(svg_path, output_dir)"
   ]
  },
  {
   "cell_type": "code",
   "execution_count": 2,
   "metadata": {},
   "outputs": [
    {
     "name": "stdout",
     "output_type": "stream",
     "text": [
      "Collecting cairosvg\n",
      "  Using cached CairoSVG-2.7.1-py3-none-any.whl.metadata (2.7 kB)\n",
      "Collecting cairocffi (from cairosvg)\n",
      "  Using cached cairocffi-1.7.1-py3-none-any.whl.metadata (3.3 kB)\n",
      "Collecting cssselect2 (from cairosvg)\n",
      "  Using cached cssselect2-0.7.0-py3-none-any.whl.metadata (2.9 kB)\n",
      "Collecting defusedxml (from cairosvg)\n",
      "  Downloading defusedxml-0.7.1-py2.py3-none-any.whl.metadata (32 kB)\n",
      "Requirement already satisfied: pillow in /Users/cardigan/.pyenv/versions/3.11.9/lib/python3.11/site-packages (from cairosvg) (10.4.0)\n",
      "Collecting tinycss2 (from cairosvg)\n",
      "  Downloading tinycss2-1.3.0-py3-none-any.whl.metadata (3.0 kB)\n",
      "Collecting cffi>=1.1.0 (from cairocffi->cairosvg)\n",
      "  Downloading cffi-1.17.0-cp311-cp311-macosx_11_0_arm64.whl.metadata (1.5 kB)\n",
      "Collecting webencodings (from cssselect2->cairosvg)\n",
      "  Downloading webencodings-0.5.1-py2.py3-none-any.whl.metadata (2.1 kB)\n",
      "Collecting pycparser (from cffi>=1.1.0->cairocffi->cairosvg)\n",
      "  Using cached pycparser-2.22-py3-none-any.whl.metadata (943 bytes)\n",
      "Using cached CairoSVG-2.7.1-py3-none-any.whl (43 kB)\n",
      "Using cached cairocffi-1.7.1-py3-none-any.whl (75 kB)\n",
      "Using cached cssselect2-0.7.0-py3-none-any.whl (15 kB)\n",
      "Downloading defusedxml-0.7.1-py2.py3-none-any.whl (25 kB)\n",
      "Downloading tinycss2-1.3.0-py3-none-any.whl (22 kB)\n",
      "Downloading cffi-1.17.0-cp311-cp311-macosx_11_0_arm64.whl (178 kB)\n",
      "\u001b[2K   \u001b[90m━━━━━━━━━━━━━━━━━━━━━━━━━━━━━━━━━━━━━━━━\u001b[0m \u001b[32m178.3/178.3 kB\u001b[0m \u001b[31m7.6 MB/s\u001b[0m eta \u001b[36m0:00:00\u001b[0m\n",
      "\u001b[?25hDownloading webencodings-0.5.1-py2.py3-none-any.whl (11 kB)\n",
      "Using cached pycparser-2.22-py3-none-any.whl (117 kB)\n",
      "Installing collected packages: webencodings, tinycss2, pycparser, defusedxml, cssselect2, cffi, cairocffi, cairosvg\n",
      "Successfully installed cairocffi-1.7.1 cairosvg-2.7.1 cffi-1.17.0 cssselect2-0.7.0 defusedxml-0.7.1 pycparser-2.22 tinycss2-1.3.0 webencodings-0.5.1\n",
      "\n",
      "\u001b[1m[\u001b[0m\u001b[34;49mnotice\u001b[0m\u001b[1;39;49m]\u001b[0m\u001b[39;49m A new release of pip is available: \u001b[0m\u001b[31;49m24.1.2\u001b[0m\u001b[39;49m -> \u001b[0m\u001b[32;49m24.2\u001b[0m\n",
      "\u001b[1m[\u001b[0m\u001b[34;49mnotice\u001b[0m\u001b[1;39;49m]\u001b[0m\u001b[39;49m To update, run: \u001b[0m\u001b[32;49mpip install --upgrade pip\u001b[0m\n",
      "Note: you may need to restart the kernel to use updated packages.\n"
     ]
    }
   ],
   "source": [
    "pip install cairosvg"
   ]
  },
  {
   "cell_type": "code",
   "execution_count": null,
   "metadata": {},
   "outputs": [],
   "source": []
  }
 ],
 "metadata": {
  "kernelspec": {
   "display_name": "Python 3",
   "language": "python",
   "name": "python3"
  },
  "language_info": {
   "codemirror_mode": {
    "name": "ipython",
    "version": 3
   },
   "file_extension": ".py",
   "mimetype": "text/x-python",
   "name": "python",
   "nbconvert_exporter": "python",
   "pygments_lexer": "ipython3",
   "version": "3.11.9"
  }
 },
 "nbformat": 4,
 "nbformat_minor": 2
}
